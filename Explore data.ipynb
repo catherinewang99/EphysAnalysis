{
 "cells": [
  {
   "cell_type": "code",
   "execution_count": 6,
   "id": "3ed59951-55a9-49fd-aac9-10b27dffb99f",
   "metadata": {},
   "outputs": [
    {
     "name": "stdout",
     "output_type": "stream",
     "text": [
      "Collecting scipy\n",
      "  Using cached scipy-1.10.1-cp38-cp38-win_amd64.whl.metadata (58 kB)\n",
      "Requirement already satisfied: numpy<1.27.0,>=1.19.5 in c:\\users\\catherinewang\\appdata\\local\\programs\\python\\python38\\lib\\site-packages (from scipy) (1.24.4)\n",
      "Using cached scipy-1.10.1-cp38-cp38-win_amd64.whl (42.2 MB)\n",
      "Installing collected packages: scipy\n",
      "Successfully installed scipy-1.10.1\n"
     ]
    }
   ],
   "source": [
    "!pip install scipy\n"
   ]
  },
  {
   "cell_type": "code",
   "execution_count": 25,
   "id": "6ecbb56e-2104-4c17-a3d6-82a1f3448a93",
   "metadata": {},
   "outputs": [],
   "source": [
    "import sys\n",
    "sys.path.append(\"C:\\scripts\\Ephys analysis\\ephys_pipeline\")\n",
    "import numpy as np\n",
    "from numpy import concatenate as cat\n",
    "import scipy.io as scio\n",
    "\n",
    "import copy\n",
    "\n"
   ]
  },
  {
   "cell_type": "code",
   "execution_count": 26,
   "id": "df897980-2df5-48c8-834d-2cf62b10268c",
   "metadata": {},
   "outputs": [],
   "source": [
    "units_tmp = scio.loadmat(r'H:\\ephys_data\\CW47\\python\\2024_10_17\\bluepassive_units')\n",
    "units = copy.deepcopy(units_tmp)\n"
   ]
  },
  {
   "cell_type": "code",
   "execution_count": 43,
   "id": "0523bd15-b359-413e-83e9-da25dd19699f",
   "metadata": {},
   "outputs": [],
   "source": [
    "imec = units['imec']\n",
    "\n",
    "# t = ['L' if i==0 else 'R' for i in imec]\n",
    "t = np.where(imec == 0, 'L', 'R')\n"
   ]
  },
  {
   "cell_type": "code",
   "execution_count": 44,
   "id": "94b9be85-04c4-48db-ba79-b7e7f182e007",
   "metadata": {},
   "outputs": [
    {
     "data": {
      "text/plain": [
       "((1, 513), (1, 152))"
      ]
     },
     "execution_count": 44,
     "metadata": {},
     "output_type": "execute_result"
    }
   ],
   "source": [
    "units['units'].shape, units['units'][0, 201].shape"
   ]
  },
  {
   "cell_type": "code",
   "execution_count": 29,
   "id": "86010955-6dec-4412-a892-7f9521cc7e4c",
   "metadata": {},
   "outputs": [
    {
     "data": {
      "text/plain": [
       "array([[-0.60051367],\n",
       "       [-0.46071367],\n",
       "       [-0.28431367],\n",
       "       [-0.19758033],\n",
       "       [-0.12298033],\n",
       "       [-0.084247  ],\n",
       "       [-0.008147  ],\n",
       "       [ 0.07911967],\n",
       "       [ 0.10291967],\n",
       "       [ 0.15968633],\n",
       "       [ 0.21918633],\n",
       "       [ 0.257553  ],\n",
       "       [ 0.30538633],\n",
       "       [ 0.344753  ],\n",
       "       [ 0.39378633],\n",
       "       [ 0.54501967],\n",
       "       [ 1.45175333],\n",
       "       [ 1.72135333],\n",
       "       [ 1.80415333],\n",
       "       [ 1.86228667],\n",
       "       [ 1.92598667],\n",
       "       [ 1.95622   ],\n",
       "       [ 2.00232   ],\n",
       "       [ 2.03365333],\n",
       "       [ 2.06495333],\n",
       "       [ 2.09862   ],\n",
       "       [ 2.14028667],\n",
       "       [ 2.16835333],\n",
       "       [ 2.21148667],\n",
       "       [ 2.22472   ],\n",
       "       [ 2.23645333],\n",
       "       [ 2.28225333],\n",
       "       [ 2.34732   ],\n",
       "       [ 2.37372   ],\n",
       "       [ 2.40438667],\n",
       "       [ 2.45252   ],\n",
       "       [ 2.48292   ],\n",
       "       [ 2.59768667],\n",
       "       [ 2.72838667],\n",
       "       [ 2.75825333],\n",
       "       [ 2.89158667],\n",
       "       [ 2.97948667],\n",
       "       [ 3.03495333],\n",
       "       [ 3.16245333],\n",
       "       [ 3.21575333],\n",
       "       [ 3.37682   ],\n",
       "       [ 3.39295333],\n",
       "       [ 3.41355333],\n",
       "       [ 3.44278667],\n",
       "       [ 3.56175333],\n",
       "       [ 4.04172   ],\n",
       "       [ 4.13708667],\n",
       "       [ 4.17165333],\n",
       "       [ 4.35235333],\n",
       "       [ 4.46822   ],\n",
       "       [ 4.51212   ],\n",
       "       [ 4.56015333],\n",
       "       [ 4.62002   ],\n",
       "       [ 4.72378667],\n",
       "       [ 4.81192   ],\n",
       "       [ 4.95258667],\n",
       "       [ 5.11775333],\n",
       "       [ 5.20085333],\n",
       "       [ 5.32415333],\n",
       "       [ 5.45728667],\n",
       "       [ 5.59295333],\n",
       "       [ 5.66802   ],\n",
       "       [ 5.76898667],\n",
       "       [ 5.88348667]])"
      ]
     },
     "execution_count": 29,
     "metadata": {},
     "output_type": "execute_result"
    }
   ],
   "source": [
    " units['units'][0, 0][0][0]"
   ]
  },
  {
   "cell_type": "code",
   "execution_count": null,
   "id": "7f8db6de-018f-4988-9ae7-6cc19e72dbed",
   "metadata": {},
   "outputs": [],
   "source": []
  }
 ],
 "metadata": {
  "kernelspec": {
   "display_name": "Python 3 (ipykernel)",
   "language": "python",
   "name": "python3"
  },
  "language_info": {
   "codemirror_mode": {
    "name": "ipython",
    "version": 3
   },
   "file_extension": ".py",
   "mimetype": "text/x-python",
   "name": "python",
   "nbconvert_exporter": "python",
   "pygments_lexer": "ipython3",
   "version": "3.8.10"
  }
 },
 "nbformat": 4,
 "nbformat_minor": 5
}
