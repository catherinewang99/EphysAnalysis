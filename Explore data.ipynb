{
 "cells": [
  {
   "cell_type": "code",
   "execution_count": 6,
   "id": "3ed59951-55a9-49fd-aac9-10b27dffb99f",
   "metadata": {},
   "outputs": [
    {
     "name": "stdout",
     "output_type": "stream",
     "text": [
      "Collecting scipy\n",
      "  Using cached scipy-1.10.1-cp38-cp38-win_amd64.whl.metadata (58 kB)\n",
      "Requirement already satisfied: numpy<1.27.0,>=1.19.5 in c:\\users\\catherinewang\\appdata\\local\\programs\\python\\python38\\lib\\site-packages (from scipy) (1.24.4)\n",
      "Using cached scipy-1.10.1-cp38-cp38-win_amd64.whl (42.2 MB)\n",
      "Installing collected packages: scipy\n",
      "Successfully installed scipy-1.10.1\n"
     ]
    }
   ],
   "source": [
    "!pip install scipy\n"
   ]
  },
  {
   "cell_type": "code",
   "execution_count": 45,
   "id": "6ecbb56e-2104-4c17-a3d6-82a1f3448a93",
   "metadata": {},
   "outputs": [],
   "source": [
    "import sys\n",
    "sys.path.append(\"C:\\scripts\\Ephys analysis\\ephys_pipeline\")\n",
    "import numpy as np\n",
    "from numpy import concatenate as cat\n",
    "import scipy.io as scio\n",
    "\n",
    "import copy\n",
    "\n"
   ]
  },
  {
   "cell_type": "code",
   "execution_count": 46,
   "id": "df897980-2df5-48c8-834d-2cf62b10268c",
   "metadata": {},
   "outputs": [],
   "source": [
    "units_tmp = scio.loadmat(r'H:\\ephys_data\\CW47\\python\\2024_10_17\\bluepassive_units')\n",
    "units = copy.deepcopy(units_tmp)\n"
   ]
  },
  {
   "cell_type": "code",
   "execution_count": 47,
   "id": "0523bd15-b359-413e-83e9-da25dd19699f",
   "metadata": {},
   "outputs": [],
   "source": [
    "imec = units['imec']\n",
    "\n",
    "# t = ['L' if i==0 else 'R' for i in imec]\n",
    "t = np.where(imec == 0, 'L', 'R')\n"
   ]
  },
  {
   "cell_type": "code",
   "execution_count": 61,
   "id": "47ef07ef-216d-47da-9f5f-8da6ed24c732",
   "metadata": {},
   "outputs": [
    {
     "data": {
      "text/plain": [
       "array([  0,   1,   2,   3,   4,   5,   6,   7,   8,   9,  10,  11,  12,\n",
       "        13,  14,  15,  16,  17,  18,  19,  20,  21,  22,  23,  24,  25,\n",
       "        26,  27,  28,  29,  30,  31,  32,  33,  34,  35,  36,  37,  38,\n",
       "        39,  40,  41,  42,  43,  44,  45,  46,  47,  48,  49,  50,  51,\n",
       "        52,  53,  54,  55,  56,  57,  58,  59,  60,  61,  62,  63,  64,\n",
       "        65,  66,  67,  68,  69,  70,  71,  72,  73,  74,  75,  76,  77,\n",
       "        78,  79,  80,  81,  82,  83,  84,  85,  86,  87,  88,  89,  90,\n",
       "        91,  92,  93,  94,  95,  96,  97,  98,  99, 100, 101, 102, 103,\n",
       "       104, 105, 106, 107, 108, 109, 110, 111, 112, 113, 114, 115, 116,\n",
       "       117, 118, 119, 120, 121, 122, 123, 124, 125, 126, 127, 128, 129,\n",
       "       130, 131, 132, 133, 134, 135, 136, 137, 138, 139, 140, 141, 142,\n",
       "       143, 144, 145, 146, 147, 148, 149, 150, 151], dtype=uint8)"
      ]
     },
     "execution_count": 61,
     "metadata": {},
     "output_type": "execute_result"
    }
   ],
   "source": [
    "units['stabletrials'][0,0][0] - 1"
   ]
  },
  {
   "cell_type": "code",
   "execution_count": 62,
   "id": "e6a7da31-bda4-43da-a5e2-48de61e85016",
   "metadata": {},
   "outputs": [],
   "source": [
    "for trial in range(units['stabletrials'][0].shape[0]):\n",
    "    units['stabletrials'][0,trial] = units['stabletrials'][0,trial][0] - 1"
   ]
  },
  {
   "cell_type": "code",
   "execution_count": 68,
   "id": "18f206e6-ddc7-41dd-b2cf-9eda7aa55406",
   "metadata": {},
   "outputs": [
    {
     "data": {
      "text/plain": [
       "(1, 513)"
      ]
     },
     "execution_count": 68,
     "metadata": {},
     "output_type": "execute_result"
    }
   ],
   "source": [
    "units['stabletrials'].shape"
   ]
  },
  {
   "cell_type": "code",
   "execution_count": 44,
   "id": "94b9be85-04c4-48db-ba79-b7e7f182e007",
   "metadata": {},
   "outputs": [
    {
     "data": {
      "text/plain": [
       "((1, 513), (1, 152))"
      ]
     },
     "execution_count": 44,
     "metadata": {},
     "output_type": "execute_result"
    }
   ],
   "source": [
    "units['units'].shape, units['units'][0, 201].shape"
   ]
  },
  {
   "cell_type": "code",
   "execution_count": 69,
   "id": "86010955-6dec-4412-a892-7f9521cc7e4c",
   "metadata": {},
   "outputs": [],
   "source": [
    " # units['units'][0, 0][0][0]"
   ]
  },
  {
   "cell_type": "code",
   "execution_count": null,
   "id": "7f8db6de-018f-4988-9ae7-6cc19e72dbed",
   "metadata": {},
   "outputs": [],
   "source": []
  }
 ],
 "metadata": {
  "kernelspec": {
   "display_name": "Python 3 (ipykernel)",
   "language": "python",
   "name": "python3"
  },
  "language_info": {
   "codemirror_mode": {
    "name": "ipython",
    "version": 3
   },
   "file_extension": ".py",
   "mimetype": "text/x-python",
   "name": "python",
   "nbconvert_exporter": "python",
   "pygments_lexer": "ipython3",
   "version": "3.8.10"
  }
 },
 "nbformat": 4,
 "nbformat_minor": 5
}
