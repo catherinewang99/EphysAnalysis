{
 "cells": [
  {
   "cell_type": "code",
   "execution_count": 6,
   "id": "3ed59951-55a9-49fd-aac9-10b27dffb99f",
   "metadata": {},
   "outputs": [
    {
     "name": "stdout",
     "output_type": "stream",
     "text": [
      "Collecting scipy\n",
      "  Using cached scipy-1.10.1-cp38-cp38-win_amd64.whl.metadata (58 kB)\n",
      "Requirement already satisfied: numpy<1.27.0,>=1.19.5 in c:\\users\\catherinewang\\appdata\\local\\programs\\python\\python38\\lib\\site-packages (from scipy) (1.24.4)\n",
      "Using cached scipy-1.10.1-cp38-cp38-win_amd64.whl (42.2 MB)\n",
      "Installing collected packages: scipy\n",
      "Successfully installed scipy-1.10.1\n"
     ]
    }
   ],
   "source": [
    "!pip install scipy\n"
   ]
  },
  {
   "cell_type": "code",
   "execution_count": 7,
   "id": "6ecbb56e-2104-4c17-a3d6-82a1f3448a93",
   "metadata": {},
   "outputs": [],
   "source": [
    "import sys\n",
    "sys.path.append(\"C:\\scripts\\Ephys analysis\\ephys_pipeline\")\n",
    "import numpy as np\n",
    "from numpy import concatenate as cat\n",
    "import scipy.io as scio\n",
    "\n"
   ]
  },
  {
   "cell_type": "code",
   "execution_count": null,
   "id": "df897980-2df5-48c8-834d-2cf62b10268c",
   "metadata": {},
   "outputs": [],
   "source": [
    "units = scio.loadmat(r'H:\\ephys_data\\CW47\\python\\2024_10_17\\bluepassive_units')\n"
   ]
  }
 ],
 "metadata": {
  "kernelspec": {
   "display_name": "Python 3 (ipykernel)",
   "language": "python",
   "name": "python3"
  },
  "language_info": {
   "codemirror_mode": {
    "name": "ipython",
    "version": 3
   },
   "file_extension": ".py",
   "mimetype": "text/x-python",
   "name": "python",
   "nbconvert_exporter": "python",
   "pygments_lexer": "ipython3",
   "version": "3.8.10"
  }
 },
 "nbformat": 4,
 "nbformat_minor": 5
}
